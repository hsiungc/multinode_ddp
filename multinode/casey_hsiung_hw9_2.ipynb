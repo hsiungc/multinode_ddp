{
 "cells": [
  {
   "cell_type": "markdown",
   "id": "5c0daed1",
   "metadata": {},
   "source": [
    "## 251 HW9 - ImageNet Multinode DDP (Node 2)"
   ]
  },
  {
   "cell_type": "markdown",
   "id": "7c5eeb9f",
   "metadata": {},
   "source": [
    "#### Import Modules"
   ]
  },
  {
   "cell_type": "code",
   "execution_count": 1,
   "id": "c3c311b4",
   "metadata": {},
   "outputs": [],
   "source": [
    "!pip install wandb -qqq"
   ]
  },
  {
   "cell_type": "code",
   "execution_count": 2,
   "id": "e555b3b9",
   "metadata": {},
   "outputs": [
    {
     "name": "stderr",
     "output_type": "stream",
     "text": [
      "/usr/local/lib/python3.8/dist-packages/tqdm/auto.py:22: TqdmWarning: IProgress not found. Please update jupyter and ipywidgets. See https://ipywidgets.readthedocs.io/en/stable/user_install.html\n",
      "  from .autonotebook import tqdm as notebook_tqdm\n"
     ]
    }
   ],
   "source": [
    "import os\n",
    "import random\n",
    "import shutil\n",
    "import time\n",
    "import warnings\n",
    "\n",
    "import torch\n",
    "import torch.nn as nn\n",
    "import torch.backends.cudnn as cudnn\n",
    "import torch.distributed as dist\n",
    "import torch.optim\n",
    "import torch.multiprocessing as mp\n",
    "\n",
    "import torch.utils.data\n",
    "import torchvision\n",
    "import torchvision.transforms as transforms\n",
    "import torchvision.datasets as datasets\n",
    "import torchvision.models as models\n",
    "\n",
    "from torch.cuda.amp import autocast, GradScaler\n",
    "\n",
    "from torch.nn.parallel import DistributedDataParallel as DDP\n",
    "\n",
    "from torch.utils.data.distributed import DistributedSampler\n",
    "\n",
    "import wandb"
   ]
  },
  {
   "cell_type": "markdown",
   "id": "288ca096",
   "metadata": {},
   "source": [
    "#### Weights & Biases Setup"
   ]
  },
  {
   "cell_type": "code",
   "execution_count": 3,
   "id": "0daa3961",
   "metadata": {},
   "outputs": [
    {
     "name": "stderr",
     "output_type": "stream",
     "text": [
      "\u001b[34m\u001b[1mwandb\u001b[0m: Logging into wandb.ai. (Learn how to deploy a W&B server locally: https://wandb.me/wandb-server)\n",
      "\u001b[34m\u001b[1mwandb\u001b[0m: You can find your API key in your browser here: https://wandb.ai/authorize\n",
      "\u001b[34m\u001b[1mwandb\u001b[0m: Paste an API key from your profile and hit enter, or press ctrl+c to quit:"
     ]
    },
    {
     "name": "stdin",
     "output_type": "stream",
     "text": [
      "  ········································\n"
     ]
    },
    {
     "name": "stderr",
     "output_type": "stream",
     "text": [
      "\u001b[34m\u001b[1mwandb\u001b[0m: Appending key for api.wandb.ai to your netrc file: /root/.netrc\n",
      "\u001b[34m\u001b[1mwandb\u001b[0m: Currently logged in as: \u001b[33mhsiungc\u001b[0m. Use \u001b[1m`wandb login --relogin`\u001b[0m to force relogin\n"
     ]
    },
    {
     "data": {
      "text/html": [
       "Tracking run with wandb version 0.13.11"
      ],
      "text/plain": [
       "<IPython.core.display.HTML object>"
      ]
     },
     "metadata": {},
     "output_type": "display_data"
    },
    {
     "data": {
      "text/html": [
       "Run data is saved locally in <code>/data/wandb/run-20230313_052544-zxxuogr8</code>"
      ],
      "text/plain": [
       "<IPython.core.display.HTML object>"
      ]
     },
     "metadata": {},
     "output_type": "display_data"
    },
    {
     "data": {
      "text/html": [
       "Syncing run <strong><a href='https://wandb.ai/hsiungc/251-hw9/runs/zxxuogr8' target=\"_blank\">proud-dust-2</a></strong> to <a href='https://wandb.ai/hsiungc/251-hw9' target=\"_blank\">Weights & Biases</a> (<a href='https://wandb.me/run' target=\"_blank\">docs</a>)<br/>"
      ],
      "text/plain": [
       "<IPython.core.display.HTML object>"
      ]
     },
     "metadata": {},
     "output_type": "display_data"
    },
    {
     "data": {
      "text/html": [
       " View project at <a href='https://wandb.ai/hsiungc/251-hw9' target=\"_blank\">https://wandb.ai/hsiungc/251-hw9</a>"
      ],
      "text/plain": [
       "<IPython.core.display.HTML object>"
      ]
     },
     "metadata": {},
     "output_type": "display_data"
    },
    {
     "data": {
      "text/html": [
       " View run at <a href='https://wandb.ai/hsiungc/251-hw9/runs/zxxuogr8' target=\"_blank\">https://wandb.ai/hsiungc/251-hw9/runs/zxxuogr8</a>"
      ],
      "text/plain": [
       "<IPython.core.display.HTML object>"
      ]
     },
     "metadata": {},
     "output_type": "display_data"
    },
    {
     "data": {
      "text/html": [
       "<button onClick=\"this.nextSibling.style.display='block';this.style.display='none';\">Display W&B run</button><iframe src='https://wandb.ai/hsiungc/251-hw9/runs/zxxuogr8?jupyter=true' style='border:none;width:100%;height:420px;display:none;'></iframe>"
      ],
      "text/plain": [
       "<wandb.sdk.wandb_run.Run at 0x7f72b06360d0>"
      ]
     },
     "execution_count": 3,
     "metadata": {},
     "output_type": "execute_result"
    }
   ],
   "source": [
    "wandb.login()\n",
    "wandb.init(project=\"251-hw9\")"
   ]
  },
  {
   "cell_type": "markdown",
   "id": "2d1542bf",
   "metadata": {},
   "source": [
    "#### Set Random Seed"
   ]
  },
  {
   "cell_type": "code",
   "execution_count": 4,
   "id": "36f813dc",
   "metadata": {},
   "outputs": [],
   "source": [
    "SEED=1"
   ]
  },
  {
   "cell_type": "code",
   "execution_count": 5,
   "id": "9406b545",
   "metadata": {},
   "outputs": [],
   "source": [
    "random.seed(SEED)\n",
    "torch.manual_seed(SEED)\n",
    "cudnn.deterministic = True"
   ]
  },
  {
   "cell_type": "markdown",
   "id": "77f71e70",
   "metadata": {},
   "source": [
    "#### DDP Setup"
   ]
  },
  {
   "cell_type": "code",
   "execution_count": 6,
   "id": "33c03860",
   "metadata": {},
   "outputs": [],
   "source": [
    "os.environ[\"MASTER_ADDR\"] = \"54.185.111.250\" # Point to master node\n",
    "os.environ[\"MASTER_PORT\"] = \"24053\" # Use same port across all nodes"
   ]
  },
  {
   "cell_type": "code",
   "execution_count": 7,
   "id": "495cb65c",
   "metadata": {},
   "outputs": [],
   "source": [
    "rank = 1\n",
    "world_size = 2"
   ]
  },
  {
   "cell_type": "code",
   "execution_count": 8,
   "id": "89a13476",
   "metadata": {},
   "outputs": [],
   "source": [
    "dist.init_process_group(backend=\"nccl\", rank=rank, world_size=world_size)"
   ]
  },
  {
   "cell_type": "markdown",
   "id": "cf563b51",
   "metadata": {},
   "source": [
    "#### Hyperparameters & Variables"
   ]
  },
  {
   "cell_type": "code",
   "execution_count": 9,
   "id": "83f384cc",
   "metadata": {},
   "outputs": [],
   "source": [
    "ARCH = 'resnet18'\n",
    "EPOCHS = 1\n",
    "LR = 0.001\n",
    "MOMENTUM = 0.9\n",
    "WEIGHT_DECAY = 1e-4\n",
    "PRINT_FREQ = 50\n",
    "TRAIN_BATCH=784\n",
    "VAL_BATCH=784\n",
    "WORKERS=2\n",
    "TRAINDIR=\"/data/ebs/train\"\n",
    "VALDIR=\"/data/ebs/val\""
   ]
  },
  {
   "cell_type": "code",
   "execution_count": 10,
   "id": "f3a1e387",
   "metadata": {},
   "outputs": [],
   "source": [
    "best_acc1 = 0"
   ]
  },
  {
   "cell_type": "markdown",
   "id": "110493a2",
   "metadata": {},
   "source": [
    "#### Set CUDA Device"
   ]
  },
  {
   "cell_type": "code",
   "execution_count": 11,
   "id": "2c18a9f3",
   "metadata": {},
   "outputs": [
    {
     "data": {
      "text/plain": [
       "1"
      ]
     },
     "execution_count": 11,
     "metadata": {},
     "output_type": "execute_result"
    }
   ],
   "source": [
    "torch.cuda.device_count()"
   ]
  },
  {
   "cell_type": "code",
   "execution_count": 12,
   "id": "866d3a45",
   "metadata": {},
   "outputs": [
    {
     "data": {
      "text/plain": [
       "0"
      ]
     },
     "execution_count": 12,
     "metadata": {},
     "output_type": "execute_result"
    }
   ],
   "source": [
    "torch.cuda.current_device()"
   ]
  },
  {
   "cell_type": "code",
   "execution_count": 13,
   "id": "3c21642a",
   "metadata": {},
   "outputs": [],
   "source": [
    "if not torch.cuda.is_available():\n",
    "    print('GPU not detected.. did you pass through your GPU?')"
   ]
  },
  {
   "cell_type": "code",
   "execution_count": 14,
   "id": "db44e16b",
   "metadata": {},
   "outputs": [],
   "source": [
    "GPU = 'cuda:0'"
   ]
  },
  {
   "cell_type": "code",
   "execution_count": 15,
   "id": "e2de950c",
   "metadata": {},
   "outputs": [],
   "source": [
    "cudnn.benchmark = True"
   ]
  },
  {
   "cell_type": "markdown",
   "id": "e428c494",
   "metadata": {},
   "source": [
    "### Functions"
   ]
  },
  {
   "cell_type": "markdown",
   "id": "0874ba26",
   "metadata": {},
   "source": [
    "#### DDP"
   ]
  },
  {
   "cell_type": "code",
   "execution_count": 16,
   "id": "2ea20245",
   "metadata": {},
   "outputs": [],
   "source": [
    "def cleanup():\n",
    "    dist.destroy_process_group()"
   ]
  },
  {
   "cell_type": "markdown",
   "id": "b35b5f69",
   "metadata": {},
   "source": [
    "#### Training & Validation"
   ]
  },
  {
   "cell_type": "code",
   "execution_count": 17,
   "id": "38a42319",
   "metadata": {},
   "outputs": [],
   "source": [
    "def train(train_loader, model, criterion, optimizer, epoch):\n",
    "    global global_step\n",
    "    batch_time = AverageMeter('Time', ':6.3f')\n",
    "    data_time = AverageMeter('Data', ':6.3f')\n",
    "    losses = AverageMeter('Loss', ':.4e')\n",
    "    top1 = AverageMeter('Acc@1', ':6.2f')\n",
    "    top5 = AverageMeter('Acc@5', ':6.2f')\n",
    "    progress = ProgressMeter(\n",
    "        len(train_loader),\n",
    "        [batch_time, data_time, losses, top1, top5],\n",
    "        prefix=\"Epoch: [{}]\".format(epoch))\n",
    "\n",
    "    scaler = GradScaler()\n",
    "    \n",
    "    # switch to train mode\n",
    "    model.train()\n",
    "\n",
    "    end = time.time()\n",
    "\n",
    "    for i, (images, target) in enumerate(train_loader):\n",
    "        # measure data loading time\n",
    "        data_time.update(time.time() - end)\n",
    "\n",
    "        if GPU is not None:\n",
    "            images = images.cuda(GPU, non_blocking=True)\n",
    "        if torch.cuda.is_available():\n",
    "            target = target.cuda(GPU, non_blocking=True)\n",
    "\n",
    "        # compute output\n",
    "        with autocast(dtype=torch.float16):\n",
    "            output = model(images)\n",
    "            loss = criterion(output, target)\n",
    "\n",
    "        # measure accuracy and record loss\n",
    "        acc1, acc5 = accuracy(output, target, topk=(1, 5))\n",
    "        losses.update(loss.item(), images.size(0))\n",
    "        top1.update(acc1[0], images.size(0))\n",
    "        top5.update(acc5[0], images.size(0))\n",
    "\n",
    "        # compute gradient w/ scaler and do step\n",
    "        optimizer.zero_grad()\n",
    "        scaler.scale(loss).backward()\n",
    "        scaler.step(optimizer)\n",
    "        scaler.update()\n",
    "\n",
    "        wandb.log({'accuracy1': acc1, 'accuracy5': acc5, 'loss': loss, 'learningrate': LR}, step=i)\n",
    "        \n",
    "        # measure elapsed time\n",
    "        batch_time.update(time.time() - end)\n",
    "        end = time.time()\n",
    "\n",
    "        if i % PRINT_FREQ == 0:\n",
    "            progress.display(i)"
   ]
  },
  {
   "cell_type": "code",
   "execution_count": 18,
   "id": "1f1de953",
   "metadata": {},
   "outputs": [],
   "source": [
    "def validate(val_loader, model, criterion):\n",
    "    batch_time = AverageMeter('Time', ':6.3f')\n",
    "    losses = AverageMeter('Loss', ':.4e')\n",
    "    top1 = AverageMeter('Acc@1', ':6.2f')\n",
    "    top5 = AverageMeter('Acc@5', ':6.2f')\n",
    "    progress = ProgressMeter(\n",
    "        len(val_loader),\n",
    "        [batch_time, losses, top1, top5],\n",
    "        prefix='Test: ')\n",
    "\n",
    "    # switch to evaluate mode\n",
    "    model.eval()\n",
    "\n",
    "    with torch.no_grad():\n",
    "        end = time.time()\n",
    "        for i, (images, target) in enumerate(val_loader):\n",
    "            if GPU is not None:\n",
    "                images = images.cuda(GPU, non_blocking=True)\n",
    "            if torch.cuda.is_available():\n",
    "                target = target.cuda(GPU, non_blocking=True)\n",
    "\n",
    "            # compute output\n",
    "            output = model(images)\n",
    "            loss = criterion(output, target)\n",
    "\n",
    "            # measure accuracy and record loss\n",
    "            acc1, acc5 = accuracy(output, target, topk=(1, 5))\n",
    "            losses.update(loss.item(), images.size(0))\n",
    "            top1.update(acc1[0], images.size(0))\n",
    "            top5.update(acc5[0], images.size(0))\n",
    "\n",
    "            wandb.log({'val_accuracy1': acc1, 'val_accuracy5': acc5, 'val_loss': loss, 'val_learningrate': LR}, step=1)\n",
    "            \n",
    "            # measure elapsed time\n",
    "            batch_time.update(time.time() - end)\n",
    "            end = time.time()\n",
    "\n",
    "            if i % PRINT_FREQ == 0:\n",
    "                progress.display(i)\n",
    "    \n",
    "    return top1.avg"
   ]
  },
  {
   "cell_type": "markdown",
   "id": "93d78c25",
   "metadata": {},
   "source": [
    "#### Checkpoint & Progress"
   ]
  },
  {
   "cell_type": "code",
   "execution_count": 19,
   "id": "fb41f5c2",
   "metadata": {},
   "outputs": [],
   "source": [
    "def save_checkpoint(state, is_best, filename='checkpoint.pth.tar'):\n",
    "    torch.save(state, filename)\n",
    "    if is_best:\n",
    "        shutil.copyfile(filename, 'model_best.pth.tar')"
   ]
  },
  {
   "cell_type": "code",
   "execution_count": 20,
   "id": "d43c1e0e",
   "metadata": {},
   "outputs": [],
   "source": [
    "class AverageMeter(object):\n",
    "    \"\"\"Computes and stores the average and current value\"\"\"\n",
    "    def __init__(self, name, fmt=':f'):\n",
    "        self.name = name\n",
    "        self.fmt = fmt\n",
    "        self.reset()\n",
    "\n",
    "    def reset(self):\n",
    "        self.val = 0\n",
    "        self.avg = 0\n",
    "        self.sum = 0\n",
    "        self.count = 0\n",
    "\n",
    "    def update(self, val, n=1):\n",
    "        self.val = val\n",
    "        self.sum += val * n\n",
    "        self.count += n\n",
    "        self.avg = self.sum / self.count\n",
    "\n",
    "    def __str__(self):\n",
    "        fmtstr = '{name} {val' + self.fmt + '} ({avg' + self.fmt + '})'\n",
    "        return fmtstr.format(**self.__dict__)"
   ]
  },
  {
   "cell_type": "code",
   "execution_count": 21,
   "id": "cc4b52a0",
   "metadata": {},
   "outputs": [],
   "source": [
    "class ProgressMeter(object):\n",
    "    def __init__(self, num_batches, meters, prefix=\"\"):\n",
    "        self.batch_fmtstr = self._get_batch_fmtstr(num_batches)\n",
    "        self.meters = meters\n",
    "        self.prefix = prefix\n",
    "\n",
    "    def display(self, batch):\n",
    "        entries = [self.prefix + self.batch_fmtstr.format(batch)]\n",
    "        entries += [str(meter) for meter in self.meters]\n",
    "        print('\\t'.join(entries))\n",
    "\n",
    "    def _get_batch_fmtstr(self, num_batches):\n",
    "        num_digits = len(str(num_batches // 1))\n",
    "        fmt = '{:' + str(num_digits) + 'd}'\n",
    "        return '[' + fmt + '/' + fmt.format(num_batches) + ']'"
   ]
  },
  {
   "cell_type": "markdown",
   "id": "7c01a60e",
   "metadata": {},
   "source": [
    "#### Learning Rate & Accuracy"
   ]
  },
  {
   "cell_type": "code",
   "execution_count": 22,
   "id": "3b9c2758",
   "metadata": {},
   "outputs": [],
   "source": [
    "def adjust_learning_rate(optimizer, epoch):\n",
    "    \"\"\"Sets the learning rate to the initial LR decayed by 10 every 30 epochs\"\"\"\n",
    "    lr = LR * (0.1 ** (epoch // 30))\n",
    "    for param_group in optimizer.param_groups:\n",
    "        param_group['lr'] = lr"
   ]
  },
  {
   "cell_type": "code",
   "execution_count": 23,
   "id": "292d2998",
   "metadata": {},
   "outputs": [],
   "source": [
    "def accuracy(output, target, topk=(1,)):\n",
    "    \"\"\"Computes the accuracy over the k top predictions for the specified values of k\"\"\"\n",
    "    with torch.no_grad():\n",
    "        maxk = max(topk)\n",
    "        batch_size = target.size(0)\n",
    "\n",
    "        _, pred = output.topk(maxk, 1, True, True)\n",
    "        pred = pred.t()\n",
    "        correct = pred.eq(target.view(1, -1).expand_as(pred))\n",
    "\n",
    "        res = []\n",
    "        for k in topk:\n",
    "            correct_k = correct[:k].reshape(-1).float().sum(0, keepdim=True)\n",
    "            res.append(correct_k.mul_(100.0 / batch_size))\n",
    "        return res"
   ]
  },
  {
   "cell_type": "markdown",
   "id": "459fcff2",
   "metadata": {},
   "source": [
    " "
   ]
  },
  {
   "cell_type": "markdown",
   "id": "650e2357",
   "metadata": {},
   "source": [
    "#### Normalization & Transformations"
   ]
  },
  {
   "cell_type": "code",
   "execution_count": 24,
   "id": "4a7e5152",
   "metadata": {},
   "outputs": [],
   "source": [
    "imagenet_mean_RGB = [0.47889522, 0.47227842, 0.43047404]\n",
    "imagenet_std_RGB = [0.229, 0.224, 0.225]"
   ]
  },
  {
   "cell_type": "code",
   "execution_count": 25,
   "id": "cc89f2f9",
   "metadata": {},
   "outputs": [],
   "source": [
    "transform_train = transforms.Compose([\n",
    "    transforms.Resize((224,224)),\n",
    "    #transforms.RandomCrop(32, padding=4),\n",
    "    transforms.RandomHorizontalFlip(),\n",
    "    transforms.ToTensor(),\n",
    "    transforms.Normalize(imagenet_mean_RGB, imagenet_std_RGB),\n",
    "])"
   ]
  },
  {
   "cell_type": "code",
   "execution_count": 26,
   "id": "7afacd3d",
   "metadata": {},
   "outputs": [],
   "source": [
    "transform_val = transforms.Compose([\n",
    "    transforms.Resize((224,224)),\n",
    "    transforms.ToTensor(),\n",
    "    transforms.Normalize(imagenet_mean_RGB, imagenet_std_RGB),\n",
    "])"
   ]
  },
  {
   "cell_type": "markdown",
   "id": "04681d14",
   "metadata": {},
   "source": [
    "#### Datasets, DataSampler, & DataLoader"
   ]
  },
  {
   "cell_type": "code",
   "execution_count": 27,
   "id": "66acd3b2",
   "metadata": {},
   "outputs": [],
   "source": [
    "train_dataset = datasets.ImageFolder(\n",
    "                        TRAINDIR, transform=transform_train)"
   ]
  },
  {
   "cell_type": "code",
   "execution_count": 28,
   "id": "0287f19a",
   "metadata": {},
   "outputs": [],
   "source": [
    "train_sampler = DistributedSampler(train_dataset)"
   ]
  },
  {
   "cell_type": "code",
   "execution_count": 29,
   "id": "326f78a2",
   "metadata": {},
   "outputs": [],
   "source": [
    "train_loader = torch.utils.data.DataLoader(\n",
    "                        train_dataset, batch_size=TRAIN_BATCH, shuffle=False,\n",
    "                        num_workers=WORKERS, pin_memory=True, sampler=train_sampler)"
   ]
  },
  {
   "cell_type": "code",
   "execution_count": 30,
   "id": "c6f7543e",
   "metadata": {},
   "outputs": [],
   "source": [
    "val_dataset = datasets.ImageFolder(\n",
    "                        VALDIR, transform=transform_val)"
   ]
  },
  {
   "cell_type": "code",
   "execution_count": 31,
   "id": "d749671f",
   "metadata": {},
   "outputs": [],
   "source": [
    "val_sampler = DistributedSampler(val_dataset)"
   ]
  },
  {
   "cell_type": "code",
   "execution_count": 32,
   "id": "eb5c3bf4",
   "metadata": {},
   "outputs": [],
   "source": [
    "val_loader = torch.utils.data.DataLoader(\n",
    "                        val_dataset, batch_size=VAL_BATCH, shuffle=False,\n",
    "                        num_workers=WORKERS, pin_memory=True, sampler=val_sampler)"
   ]
  },
  {
   "cell_type": "markdown",
   "id": "a84dc72c",
   "metadata": {},
   "source": [
    "#### Model Setup"
   ]
  },
  {
   "cell_type": "code",
   "execution_count": 33,
   "id": "66f4c7dc",
   "metadata": {},
   "outputs": [
    {
     "name": "stderr",
     "output_type": "stream",
     "text": [
      "/usr/local/lib/python3.8/dist-packages/torchvision/models/_utils.py:208: UserWarning: The parameter 'pretrained' is deprecated since 0.13 and may be removed in the future, please use 'weights' instead.\n",
      "  warnings.warn(\n",
      "/usr/local/lib/python3.8/dist-packages/torchvision/models/_utils.py:223: UserWarning: Arguments other than a weight enum or `None` for 'weights' are deprecated since 0.13 and may be removed in the future. The current behavior is equivalent to passing `weights=ResNet18_Weights.IMAGENET1K_V1`. You can also use `weights=ResNet18_Weights.DEFAULT` to get the most up-to-date weights.\n",
      "  warnings.warn(msg)\n",
      "Downloading: \"https://download.pytorch.org/models/resnet18-f37072fd.pth\" to /root/.cache/torch/hub/checkpoints/resnet18-f37072fd.pth\n",
      "100%|██████████████████████████████████████| 44.7M/44.7M [00:00<00:00, 151MB/s]\n"
     ]
    }
   ],
   "source": [
    "model = models.__dict__[ARCH](pretrained=True)"
   ]
  },
  {
   "cell_type": "code",
   "execution_count": 34,
   "id": "3362fe0e",
   "metadata": {},
   "outputs": [],
   "source": [
    "model = model.to(GPU)"
   ]
  },
  {
   "cell_type": "code",
   "execution_count": 35,
   "id": "4a388c75",
   "metadata": {},
   "outputs": [],
   "source": [
    "ddp_model = DDP(model, device_ids=[0])"
   ]
  },
  {
   "cell_type": "markdown",
   "id": "9409e05e",
   "metadata": {},
   "source": [
    "#### Loss & Optimizer"
   ]
  },
  {
   "cell_type": "code",
   "execution_count": 36,
   "id": "e6be3527",
   "metadata": {},
   "outputs": [],
   "source": [
    "criterion = nn.CrossEntropyLoss().cuda(GPU)"
   ]
  },
  {
   "cell_type": "code",
   "execution_count": 37,
   "id": "3cfffaea",
   "metadata": {},
   "outputs": [],
   "source": [
    "optimizer = torch.optim.SGD(ddp_model.parameters(), LR,\n",
    "                                momentum=MOMENTUM,\n",
    "                                weight_decay=WEIGHT_DECAY)"
   ]
  },
  {
   "cell_type": "code",
   "execution_count": 38,
   "id": "7ab2579e",
   "metadata": {},
   "outputs": [],
   "source": [
    "scheduler = torch.optim.lr_scheduler.CosineAnnealingLR(optimizer, T_max=EPOCHS)"
   ]
  },
  {
   "cell_type": "markdown",
   "id": "92c1b3c0",
   "metadata": {},
   "source": [
    "#### Training & Validation Loop"
   ]
  },
  {
   "cell_type": "code",
   "execution_count": 39,
   "id": "6bcf633e",
   "metadata": {},
   "outputs": [
    {
     "name": "stdout",
     "output_type": "stream",
     "text": [
      "Epoch: [0][  0/818]\tTime 11.173 (11.173)\tData  5.828 ( 5.828)\tLoss 1.0132e+00 (1.0132e+00)\tAcc@1  76.53 ( 76.53)\tAcc@5  91.71 ( 91.71)\n",
      "Epoch: [0][ 50/818]\tTime  2.927 ( 2.449)\tData  2.490 ( 1.916)\tLoss 1.0014e+00 (9.8828e-01)\tAcc@1  74.62 ( 74.99)\tAcc@5  91.20 ( 92.23)\n",
      "Epoch: [0][100/818]\tTime  2.594 ( 2.440)\tData  2.158 ( 1.954)\tLoss 8.4282e-01 (9.5238e-01)\tAcc@1  77.93 ( 75.72)\tAcc@5  93.49 ( 92.70)\n",
      "Epoch: [0][150/818]\tTime  4.128 ( 2.433)\tData  3.692 ( 1.964)\tLoss 9.4112e-01 (9.4028e-01)\tAcc@1  76.28 ( 75.95)\tAcc@5  91.20 ( 92.80)\n",
      "Epoch: [0][200/818]\tTime  2.716 ( 2.416)\tData  2.280 ( 1.956)\tLoss 9.2438e-01 (9.3088e-01)\tAcc@1  75.13 ( 76.03)\tAcc@5  93.11 ( 92.93)\n",
      "Epoch: [0][250/818]\tTime  2.093 ( 2.410)\tData  1.657 ( 1.954)\tLoss 9.4121e-01 (9.2225e-01)\tAcc@1  73.98 ( 76.20)\tAcc@5  92.86 ( 93.03)\n",
      "Epoch: [0][300/818]\tTime  2.166 ( 2.404)\tData  1.730 ( 1.952)\tLoss 8.4665e-01 (9.1657e-01)\tAcc@1  76.91 ( 76.35)\tAcc@5  94.01 ( 93.09)\n",
      "Epoch: [0][350/818]\tTime  3.228 ( 2.398)\tData  2.792 ( 1.948)\tLoss 8.1185e-01 (9.1299e-01)\tAcc@1  79.34 ( 76.45)\tAcc@5  93.62 ( 93.12)\n",
      "Epoch: [0][400/818]\tTime  1.726 ( 2.387)\tData  1.290 ( 1.939)\tLoss 9.5808e-01 (9.0863e-01)\tAcc@1  75.77 ( 76.56)\tAcc@5  92.73 ( 93.17)\n",
      "Epoch: [0][450/818]\tTime  1.836 ( 2.379)\tData  1.400 ( 1.932)\tLoss 8.8760e-01 (9.0638e-01)\tAcc@1  75.77 ( 76.60)\tAcc@5  92.73 ( 93.20)\n",
      "Epoch: [0][500/818]\tTime  2.239 ( 2.376)\tData  1.803 ( 1.930)\tLoss 8.3349e-01 (9.0354e-01)\tAcc@1  79.08 ( 76.67)\tAcc@5  94.64 ( 93.22)\n",
      "Epoch: [0][550/818]\tTime  3.052 ( 2.381)\tData  2.616 ( 1.936)\tLoss 8.8958e-01 (8.9973e-01)\tAcc@1  77.68 ( 76.77)\tAcc@5  93.24 ( 93.26)\n",
      "Epoch: [0][600/818]\tTime  3.066 ( 2.381)\tData  2.630 ( 1.937)\tLoss 8.8155e-01 (8.9688e-01)\tAcc@1  77.42 ( 76.82)\tAcc@5  93.37 ( 93.30)\n",
      "Epoch: [0][650/818]\tTime  4.164 ( 2.381)\tData  3.728 ( 1.938)\tLoss 8.9763e-01 (8.9497e-01)\tAcc@1  75.26 ( 76.85)\tAcc@5  94.26 ( 93.33)\n",
      "Epoch: [0][700/818]\tTime  4.024 ( 2.381)\tData  3.587 ( 1.938)\tLoss 8.6063e-01 (8.9325e-01)\tAcc@1  76.40 ( 76.88)\tAcc@5  93.88 ( 93.36)\n",
      "Epoch: [0][750/818]\tTime  4.385 ( 2.379)\tData  3.949 ( 1.937)\tLoss 9.0734e-01 (8.9285e-01)\tAcc@1  76.15 ( 76.89)\tAcc@5  93.75 ( 93.37)\n",
      "Epoch: [0][800/818]\tTime  4.204 ( 2.378)\tData  3.768 ( 1.935)\tLoss 8.9069e-01 (8.9134e-01)\tAcc@1  77.81 ( 76.92)\tAcc@5  93.37 ( 93.39)\n",
      "Test: [ 0/32]\tTime  7.262 ( 7.262)\tLoss 1.3411e+00 (1.3411e+00)\tAcc@1  66.45 ( 66.45)\tAcc@5  87.50 ( 87.50)\n",
      "lr: [0.0]\n"
     ]
    },
    {
     "data": {
      "text/html": [
       "Waiting for W&B process to finish... <strong style=\"color:green\">(success).</strong>"
      ],
      "text/plain": [
       "<IPython.core.display.HTML object>"
      ]
     },
     "metadata": {},
     "output_type": "display_data"
    },
    {
     "data": {
      "text/html": [
       "<style>\n",
       "    table.wandb td:nth-child(1) { padding: 0 10px; text-align: left ; width: auto;} td:nth-child(2) {text-align: left ; width: 100%}\n",
       "    .wandb-row { display: flex; flex-direction: row; flex-wrap: wrap; justify-content: flex-start; width: 100% }\n",
       "    .wandb-col { display: flex; flex-direction: column; flex-basis: 100%; flex: 1; padding: 10px; }\n",
       "    </style>\n",
       "<div class=\"wandb-row\"><div class=\"wandb-col\"><h3>Run history:</h3><br/><table class=\"wandb\"><tr><td>accuracy1</td><td>▁▃▃▆▄▅▄▃▄▂▄▄▄▆▇▅▆▆▆▅▄▅▄▅▄▇▅▃▇▅▅▆▆▅▃▇▆▆▆█</td></tr><tr><td>accuracy5</td><td>▁▅▄▅▄▅▂▆▅▄▅▅▅▆▇▅▆▆██▅▅▅▆▅▇▅▄▆▅▆▅▆▆▅▇▆█▇▇</td></tr><tr><td>learningrate</td><td>▁▁▁▁▁▁▁▁▁▁▁▁▁▁▁▁▁▁▁▁▁▁▁▁▁▁▁▁▁▁▁▁▁▁▁▁▁▁▁▁</td></tr><tr><td>loss</td><td>█▄▅▃▄▄▆▄▄▅▄▄▄▃▂▃▃▂▁▂▄▄▄▃▄▃▃▅▂▄▃▄▃▄▅▂▃▂▂▁</td></tr></table><br/></div><div class=\"wandb-col\"><h3>Run summary:</h3><br/><table class=\"wandb\"><tr><td>accuracy1</td><td>76.78571</td></tr><tr><td>accuracy5</td><td>94.64285</td></tr><tr><td>learningrate</td><td>0.001</td></tr><tr><td>loss</td><td>0.89496</td></tr></table><br/></div></div>"
      ],
      "text/plain": [
       "<IPython.core.display.HTML object>"
      ]
     },
     "metadata": {},
     "output_type": "display_data"
    },
    {
     "data": {
      "text/html": [
       " View run <strong style=\"color:#cdcd00\">proud-dust-2</strong> at: <a href='https://wandb.ai/hsiungc/251-hw9/runs/zxxuogr8' target=\"_blank\">https://wandb.ai/hsiungc/251-hw9/runs/zxxuogr8</a><br/>Synced 5 W&B file(s), 0 media file(s), 0 artifact file(s) and 0 other file(s)"
      ],
      "text/plain": [
       "<IPython.core.display.HTML object>"
      ]
     },
     "metadata": {},
     "output_type": "display_data"
    },
    {
     "data": {
      "text/html": [
       "Find logs at: <code>./wandb/run-20230313_052544-zxxuogr8/logs</code>"
      ],
      "text/plain": [
       "<IPython.core.display.HTML object>"
      ]
     },
     "metadata": {},
     "output_type": "display_data"
    }
   ],
   "source": [
    "for epoch in range(EPOCHS):\n",
    "    # adjust_learning_rate(optimizer, epoch)\n",
    "\n",
    "    # train for one epoch\n",
    "    train(train_loader, model, criterion, optimizer, epoch)\n",
    "\n",
    "    # evaluate on validation set\n",
    "    acc1 = validate(val_loader, model, criterion)\n",
    "\n",
    "    # remember best acc@1 and save checkpoint\n",
    "    is_best = acc1 > best_acc1\n",
    "    best_acc1 = max(acc1, best_acc1)\n",
    "\n",
    "    save_checkpoint({\n",
    "                'epoch': epoch + 1,\n",
    "                'arch': ARCH,\n",
    "                'state_dict': model.state_dict(),\n",
    "                'best_acc1': best_acc1,\n",
    "                'optimizer' : optimizer.state_dict(),\n",
    "            }, is_best)\n",
    "\n",
    "    scheduler.step()\n",
    "    print('lr: ' + str(scheduler.get_last_lr()))\n",
    "\n",
    "wandb.finish()\n",
    "cleanup()"
   ]
  }
 ],
 "metadata": {
  "kernelspec": {
   "display_name": "Python 3 (ipykernel)",
   "language": "python",
   "name": "python3"
  },
  "language_info": {
   "codemirror_mode": {
    "name": "ipython",
    "version": 3
   },
   "file_extension": ".py",
   "mimetype": "text/x-python",
   "name": "python",
   "nbconvert_exporter": "python",
   "pygments_lexer": "ipython3",
   "version": "3.8.10"
  }
 },
 "nbformat": 4,
 "nbformat_minor": 5
}
